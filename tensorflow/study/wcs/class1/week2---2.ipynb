{
 "cells": [
  {
   "cell_type": "markdown",
   "metadata": {},
   "source": [
    "# Logistic Regression with Neural Network mindset"
   ]
  },
  {
   "cell_type": "markdown",
   "metadata": {},
   "source": [
    "just a feeling test on deeplearning"
   ]
  },
  {
   "cell_type": "code",
   "execution_count": 64,
   "metadata": {
    "collapsed": false
   },
   "outputs": [],
   "source": [
    "import numpy as np\n",
    "import matplotlib.pyplot as plt\n",
    "import h5py\n",
    "import scipy \n",
    "from PIL import Image\n",
    "from scipy import ndimage\n",
    "from lr_utils import load_dataset"
   ]
  },
  {
   "cell_type": "code",
   "execution_count": 65,
   "metadata": {
    "collapsed": false
   },
   "outputs": [],
   "source": [
    "train_set_x_orig,train_set_y,test_set_x_orig,test_set_y,classes=load_dataset()"
   ]
  },
  {
   "cell_type": "code",
   "execution_count": 66,
   "metadata": {
    "collapsed": false
   },
   "outputs": [
    {
     "name": "stdout",
     "output_type": "stream",
     "text": [
      "y =  [1] , it's a ' cat ' picture.\n"
     ]
    }
   ],
   "source": [
    "index=25\n",
    "plt.imshow(train_set_x_orig[index])\n",
    "print (\"y = \" , str(train_set_y[:, index]) , \", it's a '\" ,classes[np.squeeze(train_set_y[:, index])].decode(\"utf-8\") ,  \"' picture.\")"
   ]
  },
  {
   "cell_type": "markdown",
   "metadata": {},
   "source": [
    "### get the information of trainset"
   ]
  },
  {
   "cell_type": "code",
   "execution_count": 72,
   "metadata": {
    "collapsed": false
   },
   "outputs": [
    {
     "name": "stdout",
     "output_type": "stream",
     "text": [
      "number of training examples: m_train=  209\n",
      "number of test examples: m_test=  50\n",
      "height/width of each image: num_px=  64\n",
      "sss 64\n"
     ]
    }
   ],
   "source": [
    "m_train=train_set_x_orig.shape[0]\n",
    "m_test=test_set_x_orig.shape[0]\n",
    "num_px=train_set_x_orig.shape[1]\n",
    "num_px2=train_set_x_orig.shape[2]\n",
    "print(\"number of training examples: m_train= \",m_train)\n",
    "print(\"number of test examples: m_test= \",m_test)\n",
    "print(\"height/width of each image: num_px= \",num_px)\n",
    "print(\"sss\",num_px2)"
   ]
  },
  {
   "cell_type": "code",
   "execution_count": 73,
   "metadata": {
    "collapsed": false
   },
   "outputs": [
    {
     "name": "stdout",
     "output_type": "stream",
     "text": [
      "train_set_x_flattern shape:  (12288, 209)\n",
      "test_set_x_flattern shape:  (12288, 50)\n",
      "sanity check after reshape:  [ 17 196  82   1   9  84  56  19  63  23]\n"
     ]
    }
   ],
   "source": [
    "# reshape them  np.array(train_set_x_orig)\n",
    "#the first level stay stable, others flatern.\n",
    "train_set_x_flatten=train_set_x_orig.reshape(train_set_x_orig.shape[0],-1).T\n",
    "test_set_x_flatten=test_set_x_orig.reshape(test_set_x_orig.shape[0],-1).T\n",
    "print(\"train_set_x_flattern shape: \",train_set_x_flatten.shape)\n",
    "print(\"test_set_x_flattern shape: \",test_set_x_flatten.shape)\n",
    "print(\"sanity check after reshape: \",train_set_x_flatten[0,0:10])"
   ]
  },
  {
   "cell_type": "code",
   "execution_count": 74,
   "metadata": {
    "collapsed": false
   },
   "outputs": [],
   "source": [
    "#standard the data\n",
    "train_set_x=train_set_x_flatten/255.\n",
    "test_set_x=test_set_x_flatten/255."
   ]
  },
  {
   "cell_type": "markdown",
   "metadata": {},
   "source": [
    "# building the parts of our algorithm"
   ]
  },
  {
   "cell_type": "markdown",
   "metadata": {},
   "source": [
    "1. define the model structure\n",
    "2. initialize model's parameters\n",
    "3. Loop:\n",
    "   calculate current loss(forward propagation)\n",
    "   calculate current gradient(backward propagation)\n",
    "   update parameters (gradient descent)"
   ]
  },
  {
   "cell_type": "markdown",
   "metadata": {},
   "source": [
    "### helper functions"
   ]
  },
  {
   "cell_type": "code",
   "execution_count": 75,
   "metadata": {
    "collapsed": true
   },
   "outputs": [],
   "source": [
    "from basic_me import np_sigmoid\n",
    "def sigmoid(z):\n",
    "    \"\"\"\n",
    "    compute the sigmoid of z\n",
    "    Arguments:\n",
    "     z-- a scalar or numpy array of any size\n",
    "     return :\n",
    "     s--- sigmoid(z)\n",
    "    \"\"\"\n",
    "    s=np_sigmoid(z)\n",
    "    return s\n",
    "    "
   ]
  },
  {
   "cell_type": "code",
   "execution_count": 76,
   "metadata": {
    "collapsed": false
   },
   "outputs": [
    {
     "name": "stdout",
     "output_type": "stream",
     "text": [
      "sigmoid([0, 2]) = [ 0.5         0.88079708]\n"
     ]
    }
   ],
   "source": [
    "print (\"sigmoid([0, 2]) = \" + str(sigmoid(np.array([0,2]))))"
   ]
  },
  {
   "cell_type": "markdown",
   "metadata": {},
   "source": [
    "### 4.2 initialzing parameters"
   ]
  },
  {
   "cell_type": "code",
   "execution_count": 77,
   "metadata": {
    "collapsed": false
   },
   "outputs": [],
   "source": [
    "def initialize_with_zeros(dim):\n",
    "    \"\"\"\n",
    "    w --0 vector and b--0\n",
    "    Augument:\n",
    "    dim -- size of w vector \n",
    "    \n",
    "    returns :\n",
    "    w -- vector \n",
    "    b -- scalar\n",
    "    \"\"\"\n",
    "    #!!!attention ,can not use np.zeros(dim)\n",
    "    w=np.zeros((dim,1))\n",
    "    b=0\n",
    "    assert(w.shape==(dim,1))\n",
    "    assert(isinstance(b,float)or isinstance(b,int))\n",
    "    return w,b\n",
    "    \n",
    "    "
   ]
  },
  {
   "cell_type": "code",
   "execution_count": 78,
   "metadata": {
    "collapsed": false
   },
   "outputs": [
    {
     "name": "stdout",
     "output_type": "stream",
     "text": [
      "2\n",
      "w=  [[ 0.]\n",
      " [ 0.]]\n",
      "b=  0\n"
     ]
    }
   ],
   "source": [
    "dim =2\n",
    "w,b=initialize_with_zeros(dim)\n",
    "ww=w.shape[0]\n",
    "print(ww)\n",
    "print(\"w= \",w)\n",
    "print(\"b= \",b)"
   ]
  },
  {
   "cell_type": "markdown",
   "metadata": {},
   "source": [
    "### 4.3  forward and backward propagation"
   ]
  },
  {
   "cell_type": "markdown",
   "metadata": {},
   "source": [
    "### this roi is weak"
   ]
  },
  {
   "cell_type": "code",
   "execution_count": 79,
   "metadata": {
    "collapsed": false
   },
   "outputs": [
    {
     "name": "stdout",
     "output_type": "stream",
     "text": [
      "[[ 4  5  6]\n",
      " [ 8 10 12]\n",
      " [12 15 18]]\n",
      "[[ 4  5  6]\n",
      " [ 8 10 12]\n",
      " [12 15 18]]\n",
      "[[ 0.          0.69314718  1.09861229]]\n"
     ]
    }
   ],
   "source": [
    "import numpy as np\n",
    "xxx=np.array([[1,2,3]])\n",
    "zzz=np.array([[4,5,6]])\n",
    "print(xxx.T*zzz)\n",
    "print(np.dot(xxx.T,zzz))\n",
    "yyy=np.log(xxx)\n",
    "1-xxx\n",
    "print(np.log(xxx))"
   ]
  },
  {
   "cell_type": "markdown",
   "metadata": {},
   "source": [
    "You calculate the cost function: $J = -\\frac{1}{m}\\sum_{i=1}^{m}y^{(i)}\\log(a^{(i)})+(1-y^{(i)})\\log(1-a^{(i)})$"
   ]
  },
  {
   "cell_type": "code",
   "execution_count": 80,
   "metadata": {
    "collapsed": true
   },
   "outputs": [],
   "source": [
    "from basic_me import np_sigmoid\n",
    "import numpy as np\n",
    "def propagate(w,b,X,Y):\n",
    "    \"\"\"\n",
    "    Arguments:\n",
    "    w --- weights , a numpy array of size (num_px*num_px*3,1),wihch is equal to image pixels number\n",
    "    b --- bias , a scalar\n",
    "    X --- data of size (num_px*num_px*3, number of examples)\n",
    "    Y --- true label of size( 1, number of examples )\n",
    "    \"\"\"\n",
    "    #m --- number of examples\n",
    "    m=X.shape[1]\n",
    "    \n",
    "    #A=w.T*X+b    my wrong and view the solution.....\n",
    "    A=np_sigmoid(np.dot(w.T,X)+b)\n",
    "    #Y*np.log(A)+(1-Y)np.log(1-A)  #mine is right , but i did not go on .......\n",
    "    cost=-1/m*np.sum(Y*np.log(A)+(1-Y)*np.log(1-A))\n",
    "    #be attention to use np.dot() but not A.T....\n",
    "    #dw=1/m*X(A-Y).T\n",
    "    dw=1/m*np.dot(X,(A-Y).T)\n",
    "    db=1/m*np.sum(A-Y)\n",
    "    \n",
    "    assert(dw.shape==w.shape)\n",
    "    assert(db.dtype==float)\n",
    "    cost=np.squeeze(cost)\n",
    "    assert(cost.shape==())\n",
    "    grads={\"dw\":dw,\n",
    "          \"db\":db}\n",
    "    return grads,cost\n",
    "    \n",
    "                     \n",
    "    "
   ]
  },
  {
   "cell_type": "code",
   "execution_count": 81,
   "metadata": {
    "collapsed": false
   },
   "outputs": [
    {
     "name": "stdout",
     "output_type": "stream",
     "text": [
      "dw =  [[ 0.99993216]\n",
      " [ 1.99980262]]\n",
      "db =  0.499935230625\n",
      "cost =  6.00006477319\n"
     ]
    }
   ],
   "source": [
    "w, b, X, Y = np.array([[1],[2]]), 2, np.array([[1,2],[3,4]]), np.array([[1,0]])\n",
    "grads, cost = propagate(w, b, X, Y)\n",
    "print (\"dw = \" ,grads[\"dw\"])\n",
    "print (\"db = \" , grads[\"db\"])\n",
    "print (\"cost = \" , cost)"
   ]
  },
  {
   "cell_type": "code",
   "execution_count": 82,
   "metadata": {
    "collapsed": false
   },
   "outputs": [
    {
     "name": "stdout",
     "output_type": "stream",
     "text": [
      "18\n"
     ]
    }
   ],
   "source": [
    "import numpy as np\n",
    "temp1=np.array([[1,2,3],\n",
    "               [3,4,5]])\n",
    "temp2=np.array([3,4,5])\n",
    "temp3=np.sum(temp1)\n",
    "print(temp3)"
   ]
  },
  {
   "cell_type": "markdown",
   "metadata": {},
   "source": [
    "### optimization"
   ]
  },
  {
   "cell_type": "markdown",
   "metadata": {},
   "source": [
    "the update rule is $ \\theta = \\theta - \\alpha \\text{ }d\\theta $  \n",
    "and $ \\alpha $ is the learning rate."
   ]
  },
  {
   "cell_type": "code",
   "execution_count": 83,
   "metadata": {
    "collapsed": false
   },
   "outputs": [],
   "source": [
    "def optimize(w,b,X,Y,num_iterations,learning_rate,print_cost=False):\n",
    "    \"\"\"\n",
    "    this function optimizes w and b by runting a gradient descent.\n",
    "    Arguments: \n",
    "    w---weights, a numpy of size(num_px*num_px*3,1)\n",
    "    b---bias, a scalar\n",
    "    X--- data of shape(num_px*num_px*3,number of examples)\n",
    "    Y--- true \"label\" vector of shape(1, number of examples)\n",
    "    num_iterations --- number of iterations of the optimization loop \n",
    "    learning_rate --- learning rate of the gradient descent update rule \n",
    "    print_cost --- true to print the loss every 100 steps\n",
    "    \n",
    "    returns :\n",
    "    params -- dictionary containing the weights w and bias b\n",
    "    grads -- dictionary containing the gradients of weights and bias with respect to the cost function\n",
    "    costs -- list of all the costs computed during the optimization, this will be used to plot the learning curve .\n",
    "    \"\"\"\n",
    "    costs=[]\n",
    "    for i in range(num_iterations):\n",
    "        grads,cost=propagate(w,b,X,Y)\n",
    "        dw=grads[\"dw\"]\n",
    "        db=grads[\"db\"]\n",
    "        #update rule\n",
    "        w=w-learning_rate*dw\n",
    "        b=b-learning_rate*db\n",
    "        #records the costs\n",
    "        if i%100==0:\n",
    "            costs.append(cost)\n",
    "        if print_cost and i%100==0:\n",
    "            print(\"cost after iteratrion %i: %f\"%(i,cost))\n",
    "    params={\"w\": w,\n",
    "           \"b\": b}\n",
    "    grads={\"dw\":dw,\n",
    "          \"db\":db}\n",
    "    return params,grads,costs\n",
    "            \n",
    "    "
   ]
  },
  {
   "cell_type": "code",
   "execution_count": 84,
   "metadata": {
    "collapsed": false
   },
   "outputs": [
    {
     "name": "stdout",
     "output_type": "stream",
     "text": [
      "w = [[ 0.1124579 ]\n",
      " [ 0.23106775]]\n",
      "b = 1.55930492484\n",
      "dw = [[ 0.90158428]\n",
      " [ 1.76250842]]\n",
      "db = 0.430462071679\n"
     ]
    }
   ],
   "source": [
    "params, grads, costs = optimize(w, b, X, Y, num_iterations= 100, learning_rate = 0.009, print_cost = False)\n",
    "\n",
    "print (\"w = \" + str(params[\"w\"]))\n",
    "print (\"b = \" + str(params[\"b\"]))\n",
    "print (\"dw = \" + str(grads[\"dw\"]))\n",
    "print (\"db = \" + str(grads[\"db\"]))"
   ]
  },
  {
   "cell_type": "code",
   "execution_count": 85,
   "metadata": {
    "collapsed": false
   },
   "outputs": [],
   "source": [
    "from basic_me import np_sigmoid\n",
    "def predict(w,b,X):\n",
    "    \"\"\"\n",
    "    predict whether the label is 0 or 1 using learned parameters(w,b)\n",
    "    Argument:\n",
    "    w---weights ,  a numpy array of size( num_px*numpx*3,1)\n",
    "    b--- bias, a scalar \n",
    "    X-- data of size(num_px*num_px*3,number of examples )\n",
    "    \n",
    "    returns: \n",
    "    Y_predictions -- a numpy array containing all predictions(0/1)for the examples in X\n",
    "    \"\"\"\n",
    "    m=X.shape[1]\n",
    "    Y_prediction=np.zeros((1,m))\n",
    "    #data first lever tensor number. but why?? at start it`s value shoud be equal to X.shape[0]\n",
    "    w=w.reshape(X.shape[0],1)\n",
    "    A=np_sigmoid(np.dot(w.T,X)+b)\n",
    "    \n",
    "    for i in range(A.shape[1]):\n",
    "        if A[0,i]<0.5:\n",
    "            Y_prediction[0,i]=0\n",
    "        if A[0,i]>0.5:\n",
    "            Y_prediction[0,i]=1\n",
    "    assert(Y_prediction.shape==(1,m))\n",
    "    return Y_prediction\n",
    "        \n",
    "    "
   ]
  },
  {
   "cell_type": "code",
   "execution_count": 86,
   "metadata": {
    "collapsed": false
   },
   "outputs": [
    {
     "name": "stdout",
     "output_type": "stream",
     "text": [
      "w:  [[1]\n",
      " [2]]\n",
      "b:  2\n",
      "predictions = [[ 1.  1.]]\n"
     ]
    }
   ],
   "source": [
    "print('w: ',w)\n",
    "print('b: ',b)\n",
    "print (\"predictions = \" + str(predict(w, b, X)))"
   ]
  },
  {
   "cell_type": "markdown",
   "metadata": {},
   "source": [
    "# Merge all functions into a model"
   ]
  },
  {
   "cell_type": "code",
   "execution_count": 133,
   "metadata": {
    "collapsed": true
   },
   "outputs": [],
   "source": [
    "def model(X_train,Y_train,X_test,Y_test,num_iterations=3000,learning_rate=0.5,print_cost=False):\n",
    "    \"\"\"\n",
    "    builds the logistic regression model by calling the funtion above\n",
    "    Arguments:\n",
    "    X_train -- training set (num_px*num_px*3, m_train)\n",
    "    Y_train -- training label(1, m_train)\n",
    "    X_test --- test set(num_px*num_px*3,m_test)\n",
    "    Y_test -- test label(num_px*num_px*3,m_label)\n",
    "    num_iterations --- hyperparameter representing the number of iterations to optimize the params\n",
    "    learning_rate -- learning rate used in the update rule of optimize()\n",
    "    print_cost -- set to true to print the cost every 100 iterations. and this case,will 20 times.\n",
    "    \n",
    "    \n",
    "    returns:\n",
    "    d dictionary contains information about the model    \n",
    "    \"\"\"\n",
    "    \n",
    "    w,b =initialize_with_zeros(X_train.shape[0])\n",
    "    parameters,grads,costs=optimize(w,b,X_train,Y_train,num_iterations,learning_rate,print_cost)\n",
    "    w=parameters[\"w\"]\n",
    "    b=parameters[\"b\"]\n",
    "    \n",
    "    Y_prediction_test=predict(w,b,X_test)\n",
    "    Y_prediction_train=predict(w,b,X_train)\n",
    "    \n",
    "    print(\"train accuracy : {}% \".format(100-np.mean(np.abs(Y_prediction_train-Y_train))*100))\n",
    "    print(\"test accuracy: {}% \".format(100-np.mean(np.abs(Y_prediction_test-Y_test))*100))\n",
    "    \n",
    "    #d={\"costs\": costs,\n",
    "    #  \"Y_prediction_test\":Y_prediction_test,\n",
    "    #  \"Y_prediction_train\":Y_prediction_train,\n",
    "    #  \"w\":w,\n",
    "    #  \"b\":b,\n",
    "    #  \"learning_rate\":learning_rate,\n",
    "    #  \"num_iterations\":num_iterations}\n",
    "    d={\"costs\": costs,\n",
    "      \"Y_prediction_test\":(100-np.mean(np.abs(Y_prediction_test-Y_test))*100),\n",
    "      \"Y_prediction_train\":(100-np.mean(np.abs(Y_prediction_train-Y_train))*100),\n",
    "      \"w\":w,\n",
    "      \"b\":b,\n",
    "      \"learning_rate\":learning_rate,\n",
    "      \"num_iterations\":num_iterations}\n",
    "    return d\n",
    "    "
   ]
  },
  {
   "cell_type": "code",
   "execution_count": 158,
   "metadata": {
    "collapsed": false
   },
   "outputs": [
    {
     "name": "stdout",
     "output_type": "stream",
     "text": [
      "cost after iteratrion 0: 0.693147\n",
      "cost after iteratrion 100: 0.584508\n",
      "cost after iteratrion 200: 0.466949\n",
      "cost after iteratrion 300: 0.376007\n",
      "cost after iteratrion 400: 0.331463\n",
      "cost after iteratrion 500: 0.303273\n",
      "cost after iteratrion 600: 0.279880\n",
      "cost after iteratrion 700: 0.260042\n",
      "cost after iteratrion 800: 0.242941\n",
      "cost after iteratrion 900: 0.228004\n",
      "cost after iteratrion 1000: 0.214820\n",
      "cost after iteratrion 1100: 0.203078\n",
      "cost after iteratrion 1200: 0.192544\n",
      "cost after iteratrion 1300: 0.183033\n",
      "cost after iteratrion 1400: 0.174399\n",
      "cost after iteratrion 1500: 0.166521\n",
      "cost after iteratrion 1600: 0.159305\n",
      "cost after iteratrion 1700: 0.152667\n",
      "cost after iteratrion 1800: 0.146542\n",
      "cost after iteratrion 1900: 0.140872\n",
      "train accuracy : 99.04306220095694% \n",
      "test accuracy: 70.0% \n"
     ]
    }
   ],
   "source": [
    "d = model(train_set_x, train_set_y, test_set_x, test_set_y, num_iterations = 2000, learning_rate = 0.005, print_cost = True)\n"
   ]
  },
  {
   "cell_type": "code",
   "execution_count": 159,
   "metadata": {
    "collapsed": false
   },
   "outputs": [],
   "source": [
    "# one sample test wrong ,the index is 10 ,and all most is right.\n",
    "\n",
    "#index=1\n",
    "#plt.imshow(test_set_x[:,index].reshape(num_px,num_px,3))\n",
    "#print(d[\"Y_prediction_test\"][0,index])\n",
    "#import cv2\n",
    "#image=test_set_x[:,index].reshape(num_px,num_px,3)\n",
    "#cv2.imshow(\"image\",image)\n",
    "#cv2.waitKey()"
   ]
  },
  {
   "cell_type": "code",
   "execution_count": 160,
   "metadata": {
    "collapsed": false
   },
   "outputs": [
    {
     "data": {
      "image/png": "[encoded data removed]",
      "text/plain": [
       "<matplotlib.figure.Figure at 0x24189fdb630>"
      ]
     },
     "metadata": {},
     "output_type": "display_data"
    }
   ],
   "source": [
    "# no difference????\n",
    "#print(costs)\n",
    "costs=np.squeeze(d['costs'])\n",
    "#costs_1=np.squeeze(d['costs'])\n",
    "#print(costs_1)\n",
    "plt.plot(costs)\n",
    "plt.ylabel('cost')\n",
    "plt.xlabel('iterations(per hundreds)')\n",
    "plt.title('learning rate: '+str(d['learning_rate']))\n",
    "plt.show()"
   ]
  },
  {
   "cell_type": "markdown",
   "metadata": {},
   "source": [
    "如果是想画出test_accuracy和trian_accuracy的话，是要中途进行测试，而不是最后完了弄。课程中提到的观察test_accuracy 和train_accuracy是最后的结果，而不是过程中结果。\n",
    "当迭代次数为2000时，测试集准确率和训练集准确率分别为：77，99\n",
    "当迭代次数为3000时，测试集准确率和训练集准确率分别为：68%，99.5\n",
    "当迭代次数为3000时，测试集准确率和训练集准确率分别为：70%，99.52\n",
    "当迭代次数为3000时，测试集准确率和训练集准确率分别为：70%，100"
   ]
  },
  {
   "cell_type": "code",
   "execution_count": 161,
   "metadata": {
    "collapsed": false
   },
   "outputs": [
    {
     "name": "stdout",
     "output_type": "stream",
     "text": [
      "70.0\n"
     ]
    }
   ],
   "source": [
    "test_accuracy=np.squeeze(d['Y_prediction_test'])\n",
    "print(test_accuracy)"
   ]
  },
  {
   "cell_type": "code",
   "execution_count": 164,
   "metadata": {
    "collapsed": false
   },
   "outputs": [
    {
     "name": "stdout",
     "output_type": "stream",
     "text": [
      "<class 'numpy.ndarray'>\n",
      "0.0\n"
     ]
    }
   ],
   "source": [
    "import cv2\n",
    "images=cv2.imread(\"3.jpg\")\n",
    "images.shape\n",
    "#res=cv2.resize(image,(32,32),interpolation=cv2.INTER_CUBIC)\n",
    "images_resize=cv2.resize(images,(num_px,num_px))\n",
    "#cv2.imshow(\"sss\",images_resize)\n",
    "#cv2.waitKey()\n",
    "#images_resize=images.resize(num_px,num_px)\n",
    "print(type(images_resize))\n",
    "images_vector=images_resize.reshape(num_px*num_px*3,1)\n",
    "result=predict(d[\"w\"],d[\"b\"],images_vector)\n",
    "print(np.squeeze(result))"
   ]
  },
  {
   "cell_type": "code",
   "execution_count": null,
   "metadata": {
    "collapsed": true
   },
   "outputs": [],
   "source": []
  }
 ],
 "metadata": {
  "anaconda-cloud": {},
  "kernelspec": {
   "display_name": "Python 3",
   "language": "python",
   "name": "python3"
  },
  "language_info": {
   "codemirror_mode": {
    "name": "ipython",
    "version": 3
   },
   "file_extension": ".py",
   "mimetype": "text/x-python",
   "name": "python",
   "nbconvert_exporter": "python",
   "pygments_lexer": "ipython3",
   "version": "3.6.0"
  }
 },
 "nbformat": 4,
 "nbformat_minor": 1
}
