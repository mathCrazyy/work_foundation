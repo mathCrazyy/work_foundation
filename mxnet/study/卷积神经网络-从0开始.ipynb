{
 "cells": [
  {
   "cell_type": "markdown",
   "metadata": {},
   "source": [
    "图片转向量的缺点：  \n",
    "- 空间关系丢失\n",
    "- 模型大小很大"
   ]
  },
  {
   "cell_type": "code",
   "execution_count": 1,
   "metadata": {},
   "outputs": [
    {
     "name": "stdout",
     "output_type": "stream",
     "text": [
      "(4,)\n",
      "(1, 1, 2, 2)\n",
      "b (1,)\n"
     ]
    }
   ],
   "source": [
    "import mxnet as mx\n",
    "from mxnet import nd\n",
    "#对于w0，数据格式是batch*channel*height*widht,其中batch和channel都是1\n",
    "w0=nd.arange(4)\n",
    "print(w0.shape)\n",
    "#对w进行reshape，\n",
    "w=nd.arange(4).reshape((1,1,2,2))\n",
    "print(w.shape)\n",
    "b=nd.array([1])\n",
    "print('b',b.shape)"
   ]
  },
  {
   "cell_type": "code",
   "execution_count": 2,
   "metadata": {},
   "outputs": [
    {
     "name": "stdout",
     "output_type": "stream",
     "text": [
      "(2, 2)\n",
      "(1, 1, 2, 2)\n",
      "(1, 2, 2)\n"
     ]
    }
   ],
   "source": [
    "print(w.shape[2:])\n",
    "print(w.shape[0:])\n",
    "print(w.shape[1:])"
   ]
  },
  {
   "cell_type": "code",
   "execution_count": 3,
   "metadata": {},
   "outputs": [
    {
     "name": "stdout",
     "output_type": "stream",
     "text": [
      "data \n",
      "[[[[ 0.  1.  2.]\n",
      "   [ 3.  4.  5.]\n",
      "   [ 6.  7.  8.]]]]\n",
      "<NDArray 1x1x3x3 @cpu(0)>\n",
      "weight \n",
      "[[[[ 0.  1.]\n",
      "   [ 2.  3.]]]]\n",
      "<NDArray 1x1x2x2 @cpu(0)>\n",
      "b \n",
      "[ 1.]\n",
      "<NDArray 1 @cpu(0)>\n",
      "out \n",
      "[[[[ 20.  26.]\n",
      "   [ 38.  44.]]]]\n",
      "<NDArray 1x1x2x2 @cpu(0)>\n"
     ]
    }
   ],
   "source": [
    "data=nd.arange(9).reshape((1,1,3,3))\n",
    "out=nd.Convolution(data,w,b,kernel=w.shape[2:],num_filter=w.shape[1])\n",
    "print(\"data\",data)\n",
    "print(\"weight\",w)\n",
    "print(\"b\",b)\n",
    "print(\"out\",out)"
   ]
  },
  {
   "cell_type": "code",
   "execution_count": 4,
   "metadata": {},
   "outputs": [],
   "source": [
    "out=nd.Convolution(data,w,b,kernel=w.shape[2:],num_filter=w.shape[1],\n",
    "                  stride=(2,2),pad=(1,1))"
   ]
  },
  {
   "cell_type": "code",
   "execution_count": 5,
   "metadata": {},
   "outputs": [
    {
     "name": "stdout",
     "output_type": "stream",
     "text": [
      "out \n",
      "[[[[  1.   9.]\n",
      "   [ 22.  44.]]]]\n",
      "<NDArray 1x1x2x2 @cpu(0)>\n"
     ]
    }
   ],
   "source": [
    "print('out',out)"
   ]
  },
  {
   "cell_type": "markdown",
   "metadata": {},
   "source": [
    "## 输入有两个通道的情况"
   ]
  },
  {
   "cell_type": "code",
   "execution_count": 6,
   "metadata": {},
   "outputs": [
    {
     "name": "stdout",
     "output_type": "stream",
     "text": [
      "input: \n",
      "[[[[  0.   1.   2.]\n",
      "   [  3.   4.   5.]\n",
      "   [  6.   7.   8.]]\n",
      "\n",
      "  [[  9.  10.  11.]\n",
      "   [ 12.  13.  14.]\n",
      "   [ 15.  16.  17.]]]]\n",
      "<NDArray 1x2x3x3 @cpu(0)>\n"
     ]
    }
   ],
   "source": [
    "#weight也成了2个通道，分别对输入的不同通道 batch*channel*height*width\n",
    "w=nd.arange(8).reshape((1,2,2,2))\n",
    "#18个数据，分为两个通道，每个通道是3*3的大小。\n",
    "data=nd.arange(18).reshape((1,2,3,3))\n",
    "print('input:',data)"
   ]
  },
  {
   "cell_type": "code",
   "execution_count": 7,
   "metadata": {},
   "outputs": [
    {
     "name": "stdout",
     "output_type": "stream",
     "text": [
      "\n",
      "[[[[ 0.  1.]\n",
      "   [ 2.  3.]]\n",
      "\n",
      "  [[ 4.  5.]\n",
      "   [ 6.  7.]]]]\n",
      "<NDArray 1x2x2x2 @cpu(0)>\n",
      "\n",
      "[ 1.]\n",
      "<NDArray 1 @cpu(0)>\n"
     ]
    }
   ],
   "source": [
    "print(w)\n",
    "print(b)"
   ]
  },
  {
   "cell_type": "code",
   "execution_count": 8,
   "metadata": {},
   "outputs": [
    {
     "name": "stdout",
     "output_type": "stream",
     "text": [
      "\n",
      "[[[[ 269.  297.]\n",
      "   [ 353.  381.]]]]\n",
      "<NDArray 1x1x2x2 @cpu(0)>\n",
      "(1, 1, 2, 2)\n"
     ]
    }
   ],
   "source": [
    "# 在通过权值与输入中对应通道的乘积计算后，再将各个通道结果相加。\n",
    "out=nd.Convolution(data,w,b,kernel=w.shape[2:],num_filter=w.shape[0])\n",
    "print(out)\n",
    "print(out.shape)"
   ]
  },
  {
   "cell_type": "markdown",
   "metadata": {},
   "source": [
    "# 池化层"
   ]
  },
  {
   "cell_type": "code",
   "execution_count": 9,
   "metadata": {},
   "outputs": [
    {
     "name": "stdout",
     "output_type": "stream",
     "text": [
      "max_pool \n",
      "[[[[  4.   5.]\n",
      "   [  7.   8.]]\n",
      "\n",
      "  [[ 13.  14.]\n",
      "   [ 16.  17.]]]]\n",
      "<NDArray 1x2x2x2 @cpu(0)>\n",
      "avg_pool \n",
      "[[[[  2.   3.]\n",
      "   [  5.   6.]]\n",
      "\n",
      "  [[ 11.  12.]\n",
      "   [ 14.  15.]]]]\n",
      "<NDArray 1x2x2x2 @cpu(0)>\n"
     ]
    }
   ],
   "source": [
    "#输入数据为两个通道，3*3的height*width\n",
    "data=nd.arange(18).reshape((1,2,3,3))\n",
    "#对于每个层中的数据，分别做kernel的最大池化和平均池化。\n",
    "max_pool=nd.Pooling(data=data,pool_type=\"max\",kernel=(2,2))\n",
    "avg_pool=nd.Pooling(data=data,pool_type=\"avg\",kernel=(2,2))\n",
    "print('max_pool',max_pool)\n",
    "print('avg_pool',avg_pool)\n"
   ]
  },
  {
   "cell_type": "code",
   "execution_count": 10,
   "metadata": {},
   "outputs": [],
   "source": [
    "# 使用fashion MNIST\n",
    "import sys\n",
    "sys.path.append('..')\n",
    "from utils import load_data_fashion_mnist"
   ]
  },
  {
   "cell_type": "code",
   "execution_count": 11,
   "metadata": {
    "scrolled": true
   },
   "outputs": [],
   "source": [
    "#一个批次中放入256个样本\n",
    "batch_size=256\n",
    "train_data,test_data=load_data_fashion_mnist(batch_size)"
   ]
  },
  {
   "cell_type": "code",
   "execution_count": 12,
   "metadata": {},
   "outputs": [
    {
     "data": {
      "text/plain": [
       "gpu(0)"
      ]
     },
     "execution_count": 12,
     "metadata": {},
     "output_type": "execute_result"
    }
   ],
   "source": [
    "import mxnet as mx\n",
    "try:\n",
    "    ctx=mx.gpu()\n",
    "    _=nd.zeros((1,),ctx=ctx)\n",
    "except:\n",
    "    ctx=mx.cpu()\n",
    "ctx"
   ]
  },
  {
   "cell_type": "code",
   "execution_count": 13,
   "metadata": {},
   "outputs": [],
   "source": [
    "#进行一些初始化\n",
    "weight_scale=0.01\n",
    "#先两个卷积层，再两个全链接..\n",
    "# 1是输入一个样本的特征，20是下一层的输入/// output channel 20 \n",
    "W1=nd.random_normal(shape=(20,1,5,5),scale=weight_scale,ctx=ctx)\n",
    "b1=nd.zeros(W1.shape[0],ctx=ctx)\n",
    "\n",
    "W2=nd.random_normal(shape=(50,20,3,3),scale=weight_scale,ctx=ctx)\n",
    "b2=nd.zeros(W2.shape[0],ctx=ctx)\n",
    "#全连接\n",
    "W3=nd.random_normal(shape=(1250,128),scale=weight_scale,ctx=ctx)\n",
    "b3=nd.zeros(W3.shape[1],ctx=ctx)\n",
    "\n",
    "W4=nd.random_normal(shape=(128,10),scale=weight_scale,ctx=ctx)\n",
    "b4=nd.zeros(W4.shape[1],ctx=ctx)\n",
    "\n",
    "params=[W1,b1,W2,b2,W3,b3,W4,b4]\n",
    "for param in params:\n",
    "    param.attach_grad()#前向传播"
   ]
  },
  {
   "cell_type": "code",
   "execution_count": 14,
   "metadata": {},
   "outputs": [
    {
     "name": "stdout",
     "output_type": "stream",
     "text": [
      "W1.shape0 20\n"
     ]
    }
   ],
   "source": [
    "print('W1.shape0',W1.shape[0])"
   ]
  },
  {
   "cell_type": "code",
   "execution_count": 30,
   "metadata": {},
   "outputs": [
    {
     "name": "stdout",
     "output_type": "stream",
     "text": [
      "(256, 1, 28, 28)\n",
      "<class 'mxnet.ndarray.ndarray.NDArray'>\n",
      "(5, 5)\n"
     ]
    }
   ],
   "source": [
    "#(256,1,28,28)中,256是一个Batch。\n",
    "for i,_ in test_data:\n",
    "    x=i.as_in_context(W1.context)\n",
    "#X=.as_in_context(W1.context)\n",
    "print(x.shape)\n",
    "print(type(x))\n",
    "print(W1.shape[2:])"
   ]
  },
  {
   "cell_type": "code",
   "execution_count": 31,
   "metadata": {},
   "outputs": [],
   "source": [
    "#模型的定义，尝试修改卷积的filter和kernel\n",
    "def net(X,verbose=False):\n",
    "    X=X.as_in_context(W1.context)\n",
    "    #第一层卷积\n",
    "    h1_conv=nd.Convolution(data=X,weight=W1,bias=b1,kernel=W1.shape[2:],num_filter=W1.shape[0])\n",
    "    h1_activation=nd.relu(h1_conv)\n",
    "    h1=nd.Pooling(data=h1_activation,pool_type=\"avg\",kernel=(2,2),stride=(2,2))\n",
    "    \n",
    "    #第二层卷积\n",
    "    h2_conv=nd.Convolution(data=h1,weight=W2,bias=b2,kernel=W2.shape[2:],num_filter=W2.shape[0])\n",
    "    h2_activation=nd.relu(h2_conv)\n",
    "    h2=nd.Pooling(data=h2_activation,pool_type=\"avg\",kernel=(2,2),stride=(2,2))\n",
    "    h2=nd.flatten(h2)\n",
    "    \n",
    "    #第一层全连接\n",
    "    h3_linear=nd.dot(h2,W3)+b3\n",
    "    h3=nd.relu(h3_linear)\n",
    "    \n",
    "    #第二层全连接\n",
    "    h4_linear=nd.dot(h3,W4)+b4\n",
    "    \n",
    "    if verbose:\n",
    "        print(\"1st conv block: \",h1.shape)\n",
    "        print(\"2st conv block: \",h2.shape)\n",
    "        print(\"1st dense: \",h3.shape)\n",
    "        print(\"2st dense: \",h4_linear.shape)\n",
    "        print(\"output: \",h4_linear)\n",
    "    return h4_linear"
   ]
  },
  {
   "cell_type": "code",
   "execution_count": 29,
   "metadata": {},
   "outputs": [
    {
     "name": "stdout",
     "output_type": "stream",
     "text": [
      "1st conv block:  (256, 20, 12, 12)\n",
      "2st conv block:  (256, 1250)\n",
      "1st dense:  (256, 128)\n",
      "2st dense:  (256, 10)\n",
      "output:  \n",
      "[[ -6.22512744e-05   1.63621808e-05   6.10249772e-05 ...,   2.71430999e-05\n",
      "    4.58553041e-05   7.30480024e-05]\n",
      " [ -4.98339796e-05   1.11888776e-05   4.82827681e-06 ...,   6.12251388e-05\n",
      "    3.23877903e-05   4.35794100e-05]\n",
      " [ -7.63605640e-05   1.13514625e-05   3.74885021e-05 ...,   5.80633896e-05\n",
      "    5.85587768e-05   6.18179547e-05]\n",
      " ..., \n",
      " [ -2.21974497e-05   7.68643349e-06   1.64605135e-05 ...,   1.11172394e-05\n",
      "    3.07310547e-05   3.03462530e-05]\n",
      " [ -8.21179201e-05  -2.61892856e-05  -5.09504798e-06 ...,   9.92904897e-05\n",
      "    7.02863254e-05   6.86238855e-05]\n",
      " [ -1.14349124e-04  -1.04961482e-05   3.64272964e-05 ...,   9.49199894e-05\n",
      "    7.25093269e-05   8.06859316e-05]]\n",
      "<NDArray 256x10 @gpu(0)>\n"
     ]
    }
   ],
   "source": [
    "#为啥不是(256,20,28,28)啊\n",
    "for data,_ in train_data:\n",
    "    net(data,verbose=True)\n",
    "    break"
   ]
  },
  {
   "cell_type": "markdown",
   "metadata": {},
   "source": [
    "# 训练"
   ]
  },
  {
   "cell_type": "code",
   "execution_count": 19,
   "metadata": {},
   "outputs": [
    {
     "ename": "MXNetError",
     "evalue": "[20:31:50] src/operator/./convolution-inl.h:446: Check failed: dshp.ndim() == 3U (4 vs. 3) Input data should be 3D in batch-num_filter-x\n\nStack trace returned 10 entries:\n[bt] (0) /home/wuchunsheng/anaconda3/lib/python3.6/site-packages/mxnet/libmxnet.so(+0x26eb4c) [0x7f52e99e0b4c]\n[bt] (1) /home/wuchunsheng/anaconda3/lib/python3.6/site-packages/mxnet/libmxnet.so(+0x2766460) [0x7f52ebed8460]\n[bt] (2) /home/wuchunsheng/anaconda3/lib/python3.6/site-packages/mxnet/libmxnet.so(+0x26cf4a7) [0x7f52ebe414a7]\n[bt] (3) /home/wuchunsheng/anaconda3/lib/python3.6/site-packages/mxnet/libmxnet.so(+0x2527362) [0x7f52ebc99362]\n[bt] (4) /home/wuchunsheng/anaconda3/lib/python3.6/site-packages/mxnet/libmxnet.so(+0x2513819) [0x7f52ebc85819]\n[bt] (5) /home/wuchunsheng/anaconda3/lib/python3.6/site-packages/mxnet/libmxnet.so(+0x246658b) [0x7f52ebbd858b]\n[bt] (6) /home/wuchunsheng/anaconda3/lib/python3.6/site-packages/mxnet/libmxnet.so(MXImperativeInvokeEx+0x63) [0x7f52ebbd8ac3]\n[bt] (7) /home/wuchunsheng/anaconda3/lib/python3.6/lib-dynload/_ctypes.cpython-36m-x86_64-linux-gnu.so(ffi_call_unix64+0x4c) [0x7f53235d5550]\n[bt] (8) /home/wuchunsheng/anaconda3/lib/python3.6/lib-dynload/_ctypes.cpython-36m-x86_64-linux-gnu.so(ffi_call+0x1f5) [0x7f53235d4cf5]\n[bt] (9) /home/wuchunsheng/anaconda3/lib/python3.6/lib-dynload/_ctypes.cpython-36m-x86_64-linux-gnu.so(_ctypes_callproc+0x3dc) [0x7f53235cc83c]\n",
     "output_type": "error",
     "traceback": [
      "\u001b[0;31m---------------------------------------------------------------------------\u001b[0m",
      "\u001b[0;31mMXNetError\u001b[0m                                Traceback (most recent call last)",
      "\u001b[0;32m<ipython-input-19-7bf5d1f0d80b>\u001b[0m in \u001b[0;36m<module>\u001b[0;34m()\u001b[0m\n\u001b[1;32m     11\u001b[0m         \u001b[0mlabel\u001b[0m\u001b[0;34m=\u001b[0m\u001b[0mlabel\u001b[0m\u001b[0;34m.\u001b[0m\u001b[0mas_in_context\u001b[0m\u001b[0;34m(\u001b[0m\u001b[0mctx\u001b[0m\u001b[0;34m)\u001b[0m\u001b[0;34m\u001b[0m\u001b[0m\n\u001b[1;32m     12\u001b[0m         \u001b[0;32mwith\u001b[0m \u001b[0mautograd\u001b[0m\u001b[0;34m.\u001b[0m\u001b[0mrecord\u001b[0m\u001b[0;34m(\u001b[0m\u001b[0;34m)\u001b[0m\u001b[0;34m:\u001b[0m\u001b[0;34m\u001b[0m\u001b[0m\n\u001b[0;32m---> 13\u001b[0;31m             \u001b[0moutput\u001b[0m\u001b[0;34m=\u001b[0m\u001b[0mnet\u001b[0m\u001b[0;34m(\u001b[0m\u001b[0mdata\u001b[0m\u001b[0;34m)\u001b[0m\u001b[0;34m\u001b[0m\u001b[0m\n\u001b[0m\u001b[1;32m     14\u001b[0m             \u001b[0mloss\u001b[0m\u001b[0;34m=\u001b[0m\u001b[0msoftmax_cross_entropy\u001b[0m\u001b[0;34m(\u001b[0m\u001b[0moutput\u001b[0m\u001b[0;34m,\u001b[0m\u001b[0mlabel\u001b[0m\u001b[0;34m)\u001b[0m\u001b[0;34m\u001b[0m\u001b[0m\n\u001b[1;32m     15\u001b[0m         \u001b[0mloss\u001b[0m\u001b[0;34m.\u001b[0m\u001b[0mbackward\u001b[0m\u001b[0;34m(\u001b[0m\u001b[0;34m)\u001b[0m\u001b[0;34m\u001b[0m\u001b[0m\n",
      "\u001b[0;32m<ipython-input-16-2889646706d6>\u001b[0m in \u001b[0;36mnet\u001b[0;34m(X, verbose)\u001b[0m\n\u001b[1;32m      3\u001b[0m     \u001b[0mX\u001b[0m\u001b[0;34m=\u001b[0m\u001b[0mX\u001b[0m\u001b[0;34m.\u001b[0m\u001b[0mas_in_context\u001b[0m\u001b[0;34m(\u001b[0m\u001b[0mW1\u001b[0m\u001b[0;34m.\u001b[0m\u001b[0mcontext\u001b[0m\u001b[0;34m)\u001b[0m\u001b[0;34m\u001b[0m\u001b[0m\n\u001b[1;32m      4\u001b[0m     \u001b[0;31m#第一层卷积\u001b[0m\u001b[0;34m\u001b[0m\u001b[0;34m\u001b[0m\u001b[0m\n\u001b[0;32m----> 5\u001b[0;31m     \u001b[0mh1_conv\u001b[0m\u001b[0;34m=\u001b[0m\u001b[0mnd\u001b[0m\u001b[0;34m.\u001b[0m\u001b[0mConvolution\u001b[0m\u001b[0;34m(\u001b[0m\u001b[0mdata\u001b[0m\u001b[0;34m=\u001b[0m\u001b[0mX\u001b[0m\u001b[0;34m,\u001b[0m\u001b[0mweight\u001b[0m\u001b[0;34m=\u001b[0m\u001b[0mW1\u001b[0m\u001b[0;34m,\u001b[0m\u001b[0mbias\u001b[0m\u001b[0;34m=\u001b[0m\u001b[0mb1\u001b[0m\u001b[0;34m,\u001b[0m\u001b[0mkernel\u001b[0m\u001b[0;34m=\u001b[0m\u001b[0mW1\u001b[0m\u001b[0;34m.\u001b[0m\u001b[0mshape\u001b[0m\u001b[0;34m[\u001b[0m\u001b[0;36m3\u001b[0m\u001b[0;34m:\u001b[0m\u001b[0;34m]\u001b[0m\u001b[0;34m,\u001b[0m\u001b[0mnum_filter\u001b[0m\u001b[0;34m=\u001b[0m\u001b[0mW1\u001b[0m\u001b[0;34m.\u001b[0m\u001b[0mshape\u001b[0m\u001b[0;34m[\u001b[0m\u001b[0;36m0\u001b[0m\u001b[0;34m]\u001b[0m\u001b[0;34m)\u001b[0m\u001b[0;34m\u001b[0m\u001b[0m\n\u001b[0m\u001b[1;32m      6\u001b[0m     \u001b[0mh1_activation\u001b[0m\u001b[0;34m=\u001b[0m\u001b[0mnd\u001b[0m\u001b[0;34m.\u001b[0m\u001b[0mrelu\u001b[0m\u001b[0;34m(\u001b[0m\u001b[0mh1_conv\u001b[0m\u001b[0;34m)\u001b[0m\u001b[0;34m\u001b[0m\u001b[0m\n\u001b[1;32m      7\u001b[0m     \u001b[0mh1\u001b[0m\u001b[0;34m=\u001b[0m\u001b[0mnd\u001b[0m\u001b[0;34m.\u001b[0m\u001b[0mPooling\u001b[0m\u001b[0;34m(\u001b[0m\u001b[0mdata\u001b[0m\u001b[0;34m=\u001b[0m\u001b[0mh1_activation\u001b[0m\u001b[0;34m,\u001b[0m\u001b[0mpool_type\u001b[0m\u001b[0;34m=\u001b[0m\u001b[0;34m\"avg\"\u001b[0m\u001b[0;34m,\u001b[0m\u001b[0mkernel\u001b[0m\u001b[0;34m=\u001b[0m\u001b[0;34m(\u001b[0m\u001b[0;36m2\u001b[0m\u001b[0;34m,\u001b[0m\u001b[0;36m2\u001b[0m\u001b[0;34m)\u001b[0m\u001b[0;34m,\u001b[0m\u001b[0mstride\u001b[0m\u001b[0;34m=\u001b[0m\u001b[0;34m(\u001b[0m\u001b[0;36m2\u001b[0m\u001b[0;34m,\u001b[0m\u001b[0;36m2\u001b[0m\u001b[0;34m)\u001b[0m\u001b[0;34m)\u001b[0m\u001b[0;34m\u001b[0m\u001b[0m\n",
      "\u001b[0;32m/home/wuchunsheng/anaconda3/lib/python3.6/site-packages/mxnet/ndarray/register.py\u001b[0m in \u001b[0;36mConvolution\u001b[0;34m(data, weight, bias, kernel, stride, dilate, pad, num_filter, num_group, workspace, no_bias, cudnn_tune, cudnn_off, layout, out, name, **kwargs)\u001b[0m\n",
      "\u001b[0;32m/home/wuchunsheng/anaconda3/lib/python3.6/site-packages/mxnet/_ctypes/ndarray.py\u001b[0m in \u001b[0;36m_imperative_invoke\u001b[0;34m(handle, ndargs, keys, vals, out)\u001b[0m\n\u001b[1;32m     90\u001b[0m         \u001b[0mc_array\u001b[0m\u001b[0;34m(\u001b[0m\u001b[0mctypes\u001b[0m\u001b[0;34m.\u001b[0m\u001b[0mc_char_p\u001b[0m\u001b[0;34m,\u001b[0m \u001b[0;34m[\u001b[0m\u001b[0mc_str\u001b[0m\u001b[0;34m(\u001b[0m\u001b[0mkey\u001b[0m\u001b[0;34m)\u001b[0m \u001b[0;32mfor\u001b[0m \u001b[0mkey\u001b[0m \u001b[0;32min\u001b[0m \u001b[0mkeys\u001b[0m\u001b[0;34m]\u001b[0m\u001b[0;34m)\u001b[0m\u001b[0;34m,\u001b[0m\u001b[0;34m\u001b[0m\u001b[0m\n\u001b[1;32m     91\u001b[0m         \u001b[0mc_array\u001b[0m\u001b[0;34m(\u001b[0m\u001b[0mctypes\u001b[0m\u001b[0;34m.\u001b[0m\u001b[0mc_char_p\u001b[0m\u001b[0;34m,\u001b[0m \u001b[0;34m[\u001b[0m\u001b[0mc_str\u001b[0m\u001b[0;34m(\u001b[0m\u001b[0mstr\u001b[0m\u001b[0;34m(\u001b[0m\u001b[0mval\u001b[0m\u001b[0;34m)\u001b[0m\u001b[0;34m)\u001b[0m \u001b[0;32mfor\u001b[0m \u001b[0mval\u001b[0m \u001b[0;32min\u001b[0m \u001b[0mvals\u001b[0m\u001b[0;34m]\u001b[0m\u001b[0;34m)\u001b[0m\u001b[0;34m,\u001b[0m\u001b[0;34m\u001b[0m\u001b[0m\n\u001b[0;32m---> 92\u001b[0;31m         ctypes.byref(out_stypes)))\n\u001b[0m\u001b[1;32m     93\u001b[0m \u001b[0;34m\u001b[0m\u001b[0m\n\u001b[1;32m     94\u001b[0m     \u001b[0;32mif\u001b[0m \u001b[0moriginal_output\u001b[0m \u001b[0;32mis\u001b[0m \u001b[0;32mnot\u001b[0m \u001b[0;32mNone\u001b[0m\u001b[0;34m:\u001b[0m\u001b[0;34m\u001b[0m\u001b[0m\n",
      "\u001b[0;32m/home/wuchunsheng/anaconda3/lib/python3.6/site-packages/mxnet/base.py\u001b[0m in \u001b[0;36mcheck_call\u001b[0;34m(ret)\u001b[0m\n\u001b[1;32m    144\u001b[0m     \"\"\"\n\u001b[1;32m    145\u001b[0m     \u001b[0;32mif\u001b[0m \u001b[0mret\u001b[0m \u001b[0;34m!=\u001b[0m \u001b[0;36m0\u001b[0m\u001b[0;34m:\u001b[0m\u001b[0;34m\u001b[0m\u001b[0m\n\u001b[0;32m--> 146\u001b[0;31m         \u001b[0;32mraise\u001b[0m \u001b[0mMXNetError\u001b[0m\u001b[0;34m(\u001b[0m\u001b[0mpy_str\u001b[0m\u001b[0;34m(\u001b[0m\u001b[0m_LIB\u001b[0m\u001b[0;34m.\u001b[0m\u001b[0mMXGetLastError\u001b[0m\u001b[0;34m(\u001b[0m\u001b[0;34m)\u001b[0m\u001b[0;34m)\u001b[0m\u001b[0;34m)\u001b[0m\u001b[0;34m\u001b[0m\u001b[0m\n\u001b[0m\u001b[1;32m    147\u001b[0m \u001b[0;34m\u001b[0m\u001b[0m\n\u001b[1;32m    148\u001b[0m \u001b[0;32mif\u001b[0m \u001b[0msys\u001b[0m\u001b[0;34m.\u001b[0m\u001b[0mversion_info\u001b[0m\u001b[0;34m[\u001b[0m\u001b[0;36m0\u001b[0m\u001b[0;34m]\u001b[0m \u001b[0;34m<\u001b[0m \u001b[0;36m3\u001b[0m\u001b[0;34m:\u001b[0m\u001b[0;34m\u001b[0m\u001b[0m\n",
      "\u001b[0;31mMXNetError\u001b[0m: [20:31:50] src/operator/./convolution-inl.h:446: Check failed: dshp.ndim() == 3U (4 vs. 3) Input data should be 3D in batch-num_filter-x\n\nStack trace returned 10 entries:\n[bt] (0) /home/wuchunsheng/anaconda3/lib/python3.6/site-packages/mxnet/libmxnet.so(+0x26eb4c) [0x7f52e99e0b4c]\n[bt] (1) /home/wuchunsheng/anaconda3/lib/python3.6/site-packages/mxnet/libmxnet.so(+0x2766460) [0x7f52ebed8460]\n[bt] (2) /home/wuchunsheng/anaconda3/lib/python3.6/site-packages/mxnet/libmxnet.so(+0x26cf4a7) [0x7f52ebe414a7]\n[bt] (3) /home/wuchunsheng/anaconda3/lib/python3.6/site-packages/mxnet/libmxnet.so(+0x2527362) [0x7f52ebc99362]\n[bt] (4) /home/wuchunsheng/anaconda3/lib/python3.6/site-packages/mxnet/libmxnet.so(+0x2513819) [0x7f52ebc85819]\n[bt] (5) /home/wuchunsheng/anaconda3/lib/python3.6/site-packages/mxnet/libmxnet.so(+0x246658b) [0x7f52ebbd858b]\n[bt] (6) /home/wuchunsheng/anaconda3/lib/python3.6/site-packages/mxnet/libmxnet.so(MXImperativeInvokeEx+0x63) [0x7f52ebbd8ac3]\n[bt] (7) /home/wuchunsheng/anaconda3/lib/python3.6/lib-dynload/_ctypes.cpython-36m-x86_64-linux-gnu.so(ffi_call_unix64+0x4c) [0x7f53235d5550]\n[bt] (8) /home/wuchunsheng/anaconda3/lib/python3.6/lib-dynload/_ctypes.cpython-36m-x86_64-linux-gnu.so(ffi_call+0x1f5) [0x7f53235d4cf5]\n[bt] (9) /home/wuchunsheng/anaconda3/lib/python3.6/lib-dynload/_ctypes.cpython-36m-x86_64-linux-gnu.so(_ctypes_callproc+0x3dc) [0x7f53235cc83c]\n"
     ]
    }
   ],
   "source": [
    "from mxnet import autograd as autograd\n",
    "from utils import SGD,accuracy,evaluate_accuracy\n",
    "from mxnet import gluon\n",
    "softmax_cross_entropy=gluon.loss.SoftmaxCrossEntropyLoss()\n",
    "learning_rate=0.2\n",
    "\n",
    "for epoch in range(5):\n",
    "    train_loss=0.0\n",
    "    train_acc=0.0\n",
    "    for data,label in train_data:\n",
    "        label=label.as_in_context(ctx)\n",
    "        with autograd.record():\n",
    "            output=net(data)\n",
    "            loss=softmax_cross_entropy(output,label)\n",
    "        loss.backward()\n",
    "        SGD(params,learning_rate/batch_size)\n",
    "        train_loss+=nd.mean(loss).asscalar()\n",
    "        train_acc+=accuracy(output,label)\n",
    "    test_acc=evaluate_accuracy(test_data,net,ctx)\n",
    "    print(\"Epoch %d. Loss %f, Train acc %f, Test acc %f\"%(\n",
    "    epoch,train_loss/len(train_data),train_acc/len(train_data),test_acc))"
   ]
  },
  {
   "cell_type": "code",
   "execution_count": null,
   "metadata": {
    "collapsed": true
   },
   "outputs": [],
   "source": []
  },
  {
   "cell_type": "code",
   "execution_count": null,
   "metadata": {
    "collapsed": true
   },
   "outputs": [],
   "source": []
  }
 ],
 "metadata": {
  "kernelspec": {
   "display_name": "Python 3",
   "language": "python",
   "name": "python3"
  },
  "language_info": {
   "codemirror_mode": {
    "name": "ipython",
    "version": 3
   },
   "file_extension": ".py",
   "mimetype": "text/x-python",
   "name": "python",
   "nbconvert_exporter": "python",
   "pygments_lexer": "ipython3",
   "version": "3.6.1"
  }
 },
 "nbformat": 4,
 "nbformat_minor": 2
}
