{
 "cells": [
  {
   "cell_type": "markdown",
   "metadata": {
    "collapsed": true
   },
   "source": [
    "# 第一周  深度学习概论\n",
    "\n",
    "---\n",
    "\n",
    "吴恩达最新发布的深度学习课程包含以下五门课：\n",
    "\n",
    "神经网络是一种高效的机器学习算法，它模仿人脑的工作模式（最近，hinton反对这种说法）。\n",
    "\n",
    "standard NN\n",
    "Convolutional NN\n",
    "Recurrent NN\n",
    "\n",
    "监督学习（supervised learning）\n",
    "\n",
    "---\n",
    "\n",
    "\n",
    "Structured Data & Unstuctured Data\n",
    "\n",
    "\n",
    "深度学习兴起的原因\n",
    "\n",
    "https://mp.weixin.qq.com/s/rrgSh8OuEB_jk0Pv5_W5fg\n",
    "\n",
    "讲解反向传播\n",
    "http://www.cnblogs.com/xialuobo/p/5863675.html\n",
    "\n"
   ]
  },
  {
   "cell_type": "code",
   "execution_count": null,
   "metadata": {
    "collapsed": true
   },
   "outputs": [],
   "source": []
  }
 ],
 "metadata": {
  "anaconda-cloud": {},
  "kernelspec": {
   "display_name": "Python [default]",
   "language": "python",
   "name": "python3"
  },
  "language_info": {
   "codemirror_mode": {
    "name": "ipython",
    "version": 3
   },
   "file_extension": ".py",
   "mimetype": "text/x-python",
   "name": "python",
   "nbconvert_exporter": "python",
   "pygments_lexer": "ipython3",
   "version": "3.5.2"
  }
 },
 "nbformat": 4,
 "nbformat_minor": 2
}
