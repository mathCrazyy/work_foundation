{
 "cells": [
  {
   "cell_type": "markdown",
   "metadata": {},
   "source": [
    "# building deep neural network(step by step)"
   ]
  },
  {
   "cell_type": "markdown",
   "metadata": {},
   "source": [
    "this is image classification task  \n",
    "- in this part will use relu to improve our model.\n",
    "- build a deeper neural network (more than 1 hidden layer)\n",
    "- implement an easy-to-use neural network class\n"
   ]
  },
  {
   "cell_type": "code",
   "execution_count": 28,
   "metadata": {},
   "outputs": [
    {
     "name": "stdout",
     "output_type": "stream",
     "text": [
      "The autoreload extension is already loaded. To reload it, use:\n",
      "  %reload_ext autoreload\n"
     ]
    }
   ],
   "source": [
    "import numpy as np\n",
    "import h5py\n",
    "import matplotlib.pyplot as plt\n",
    "from testCases_v2 import *\n",
    "from dnn_utils_v2 import sigmoid, sigmoid_backward, relu, relu_backward\n",
    "\n",
    "%matplotlib inline\n",
    "plt.rcParams[\"figure.figsize\"]=(5.0,4.0)\n",
    "plt.rcParams[\"image.interpolation\"]='nearest'\n",
    "plt.rcParams['image.cmap']='gray'\n",
    "\n",
    "%load_ext autoreload\n",
    "%autoreload 2\n",
    "\n",
    "np.random.seed(1)\n"
   ]
  },
  {
   "cell_type": "markdown",
   "metadata": {
    "collapsed": true
   },
   "source": [
    "# 3-initialization"
   ]
  },
  {
   "cell_type": "markdown",
   "metadata": {},
   "source": [
    "- first function to initialization two layer model\n",
    "- generalize this initialization process to L layers.\n",
    "  \n",
    "  model's structure is LINEAR->RELU->LINEAR->SIGMOID"
   ]
  },
  {
   "cell_type": "code",
   "execution_count": 29,
   "metadata": {
    "collapsed": true
   },
   "outputs": [],
   "source": [
    "def initialize_parameters(n_x,n_h,n_y):\n",
    "    \"\"\"\n",
    "    Argument:\n",
    "    n_x -- size of the input layer\n",
    "    n_h -- size of the hidden layer\n",
    "    n_y -- size of the output layer\n",
    "    \n",
    "    returns:\n",
    "    parameters: -- python dictionary :\n",
    "       W1 -- weight matrix of shape(n_h,n_x)\n",
    "       b1 -- bias vector of shape(n_h,1)\n",
    "       W2 -- weight matrix of shape (n_y,n_h)\n",
    "       b2 -- bias vector of shape(n_y,1)\n",
    "    \"\"\"\n",
    "    #.....e ...\n",
    "    np.random.seed(1)\n",
    "    W1=np.random.randn(n_h,n_x)*0.01\n",
    "    b1=np.zeros((n_h,1))\n",
    "    W2=np.random.randn(n_y,n_h)*0.01\n",
    "    b2=np.zeros((n_y,1))\n",
    "    \n",
    "    #W1=np.array([n_h,n_x])\n",
    "    #b1=np.array([n_h,1])\n",
    "    #W2=np.array([n_y,n_h])\n",
    "    #b2=np.array([n_y,1])\n",
    "    \n",
    "    assert(W1.shape==(n_h,n_x))\n",
    "    assert(b1.shape==(n_h,1))\n",
    "    assert(W2.shape==(n_y,n_h))\n",
    "    assert(b2.shape==(n_y,1))\n",
    "    \n",
    "    parameters={\n",
    "        \"W1\":W1,\n",
    "        \"b1\":b1,\n",
    "        \"W2\":W2,\n",
    "        \"b2\":b2\n",
    "    }\n",
    "    return parameters"
   ]
  },
  {
   "cell_type": "code",
   "execution_count": 30,
   "metadata": {},
   "outputs": [
    {
     "name": "stdout",
     "output_type": "stream",
     "text": [
      "W1=  [[ 0.01624345 -0.00611756]\n",
      " [-0.00528172 -0.01072969]]\n",
      "b1=  [[ 0.]\n",
      " [ 0.]]\n",
      "W2=  [[ 0.00865408 -0.02301539]]\n",
      "b2=  [[ 0.]]\n"
     ]
    }
   ],
   "source": [
    "parameters=initialize_parameters(2,2,1)\n",
    "print(\"W1= \",parameters[\"W1\"])\n",
    "print(\"b1= \",parameters[\"b1\"])\n",
    "print(\"W2= \",parameters[\"W2\"])\n",
    "print(\"b2= \",parameters[\"b2\"])"
   ]
  },
  {
   "cell_type": "markdown",
   "metadata": {
    "collapsed": true
   },
   "source": [
    "## 3.2 L-layer Neural Network"
   ]
  },
  {
   "cell_type": "code",
   "execution_count": 31,
   "metadata": {
    "collapsed": true
   },
   "outputs": [],
   "source": [
    "def initialize_parameters_deep(layer_dims):\n",
    "    \"\"\"\n",
    "    arguments:\n",
    "    layer_dims -- python array(list) constaining the dimensions of \n",
    "    each layer in our network\n",
    "    returns:\n",
    "    W1 --\n",
    "    b1 --\n",
    "    \"\"\"\n",
    "    np.random.seed(3)\n",
    "    parameters={}\n",
    "    L=len(layer_dims) #number of layers in the network\n",
    "    print(\"L \",L)\n",
    "    for l in range(1,L):\n",
    "        parameters['W'+str(l)]=np.random.randn(layer_dims[l],layer_dims[l-1])*0.01\n",
    "        parameters['b'+str(l)]=np.zeros((layer_dims[l],1))\n",
    "        print('l',l)\n",
    "        assert(parameters['W'+str(l)].shape==(layer_dims[l],layer_dims[l-1]))\n",
    "        assert(parameters['b'+str(l)].shape==(layer_dims[l],1))\n",
    "    return parameters\n",
    "        "
   ]
  },
  {
   "cell_type": "code",
   "execution_count": 32,
   "metadata": {},
   "outputs": [
    {
     "name": "stdout",
     "output_type": "stream",
     "text": [
      "L  3\n",
      "l 1\n",
      "l 2\n",
      "W1= [[ 0.01788628  0.0043651   0.00096497 -0.01863493 -0.00277388]\n",
      " [-0.00354759 -0.00082741 -0.00627001 -0.00043818 -0.00477218]\n",
      " [-0.01313865  0.00884622  0.00881318  0.01709573  0.00050034]\n",
      " [-0.00404677 -0.0054536  -0.01546477  0.00982367 -0.01101068]]\n",
      "b1= [[ 0.]\n",
      " [ 0.]\n",
      " [ 0.]\n",
      " [ 0.]]\n",
      "W2= [[-0.01185047 -0.0020565   0.01486148  0.00236716]\n",
      " [-0.01023785 -0.00712993  0.00625245 -0.00160513]\n",
      " [-0.00768836 -0.00230031  0.00745056  0.01976111]]\n",
      "b2= [[ 0.]\n",
      " [ 0.]\n",
      " [ 0.]]\n"
     ]
    }
   ],
   "source": [
    "#[5,4,3]is stand for there are 3 hidden layers.\n",
    "parameters=initialize_parameters_deep([5,4,3])\n",
    "print('W1= '+str(parameters[\"W1\"]))\n",
    "print('b1= '+str(parameters[\"b1\"]))\n",
    "print('W2= '+str(parameters[\"W2\"]))\n",
    "print('b2= '+str(parameters[\"b2\"]))\n"
   ]
  },
  {
   "cell_type": "markdown",
   "metadata": {},
   "source": [
    "# forward propagation module\n",
    "## 4.1 linear forward"
   ]
  },
  {
   "cell_type": "code",
   "execution_count": 46,
   "metadata": {
    "collapsed": true
   },
   "outputs": [],
   "source": [
    "def linear_forward(A,W,b):\n",
    "    \"\"\"\n",
    "    linear part in forward propagation\n",
    "    argument:\n",
    "    A -- activations from previous layers(or inputs ):size of layers, or \n",
    "        size of inputs\n",
    "    W -- weights matrix (size of current layer, the last layer size)\n",
    "    b -- bias (size of current layer,1)\n",
    "    returns:\n",
    "    Z -- the input of the activation function,(pre-activation parameter)\n",
    "    cache -- A,W,b\n",
    "    \"\"\"\n",
    "    #fuck...\n",
    "    #Z=np.random.randn(W.shape[0],A.shape[1])*0.01\n",
    "    Z=np.dot(W,A)+b\n",
    "    assert(Z.shape==(W.shape[0],A.shape[1]))\n",
    "    cache=(A,W,b)\n",
    "    return Z,cache"
   ]
  },
  {
   "cell_type": "code",
   "execution_count": 53,
   "metadata": {},
   "outputs": [
    {
     "name": "stdout",
     "output_type": "stream",
     "text": [
      "A:  (3, 2)\n",
      "W:  (1, 3)\n",
      "b:  (1, 1)\n",
      "Z= [[ 3.26295337 -1.23429987]]\n",
      "(1, 2)\n"
     ]
    }
   ],
   "source": [
    "A,W,b=linear_forward_test_case()\n",
    "Z,linear_cache=linear_forward(A,W,b)\n",
    "print(\"A: \",linear_cache[0].shape)\n",
    "print(\"W: \",linear_cache[1].shape)\n",
    "print(\"b: \",linear_cache[2].shape)\n",
    "print(\"Z= \"+str(Z))\n",
    "print(Z.shape)"
   ]
  },
  {
   "cell_type": "markdown",
   "metadata": {},
   "source": [
    "## 4.2 linear-activation forward"
   ]
  },
  {
   "cell_type": "code",
   "execution_count": 54,
   "metadata": {
    "collapsed": true
   },
   "outputs": [],
   "source": [
    "def linear_activation_forward(A_prew,W,b,activation):\n",
    "    \"\"\"\n",
    "    Implement the forward propagation for linear -> activation layer\n",
    "    Arguments:\n",
    "    A_prew --activations from previous layer\n",
    "    W -- weights matrix: \n",
    "    b -- bias vector ,\n",
    "    activation -- relu or sigmoid \n",
    "    returns:\n",
    "    A -- the output of the activation function,(post-activation value)\n",
    "    cache -- a python dictionary  \"linear_cache\" and \"cactivation_cache\"\n",
    "      stored for computing the backward pass efficiently \n",
    "    \"\"\"\n",
    "    if activation==\"sigmoid\":\n",
    "        Z,linear_cache=linear_forward(A_prew,W,b)\n",
    "        A,activation_cache=sigmoid(Z)\n",
    "    if activation==\"relu\":\n",
    "        Z,linear_cache=linear_forward(A_prew,W,b)\n",
    "        A,activation_cache=relu(Z)\n",
    "    assert(A.shape==(W.shape[0],A_prev.shape[1]))\n",
    "    cache=(linear_cache,activation_cache)\n",
    "    return A,cache\n",
    "    \n",
    "    "
   ]
  },
  {
   "cell_type": "code",
   "execution_count": 55,
   "metadata": {},
   "outputs": [
    {
     "ename": "NameError",
     "evalue": "name 'linear_activation_forward_test_case' is not defined",
     "output_type": "error",
     "traceback": [
      "\u001b[0;31m---------------------------------------------------------------------------\u001b[0m",
      "\u001b[0;31mNameError\u001b[0m                                 Traceback (most recent call last)",
      "\u001b[0;32m<ipython-input-55-bf0d84a32a3c>\u001b[0m in \u001b[0;36m<module>\u001b[0;34m()\u001b[0m\n\u001b[0;32m----> 1\u001b[0;31m \u001b[0mA_prew\u001b[0m\u001b[0;34m,\u001b[0m\u001b[0mW\u001b[0m\u001b[0;34m,\u001b[0m\u001b[0mb\u001b[0m\u001b[0;34m=\u001b[0m\u001b[0mlinear_activation_forward_test_case\u001b[0m\u001b[0;34m(\u001b[0m\u001b[0;34m)\u001b[0m\u001b[0;34m\u001b[0m\u001b[0m\n\u001b[0m",
      "\u001b[0;31mNameError\u001b[0m: name 'linear_activation_forward_test_case' is not defined"
     ]
    }
   ],
   "source": [
    "A_prew,W,b=linear_activation_forward_test_case()"
   ]
  },
  {
   "cell_type": "code",
   "execution_count": null,
   "metadata": {
    "collapsed": true
   },
   "outputs": [],
   "source": []
  }
 ],
 "metadata": {
  "kernelspec": {
   "display_name": "Python 3",
   "language": "python",
   "name": "python3"
  },
  "language_info": {
   "codemirror_mode": {
    "name": "ipython",
    "version": 3
   },
   "file_extension": ".py",
   "mimetype": "text/x-python",
   "name": "python",
   "nbconvert_exporter": "python",
   "pygments_lexer": "ipython3",
   "version": "3.6.1"
  }
 },
 "nbformat": 4,
 "nbformat_minor": 2
}
