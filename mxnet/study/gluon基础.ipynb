{
 "cells": [
  {
   "cell_type": "code",
   "execution_count": 6,
   "metadata": {},
   "outputs": [
    {
     "name": "stdout",
     "output_type": "stream",
     "text": [
      "\n",
      "[ 1.  2.  3.]\n",
      "<NDArray 3 @cpu(0)>\n"
     ]
    },
    {
     "data": {
      "text/plain": [
       "cpu(0)"
      ]
     },
     "execution_count": 6,
     "metadata": {},
     "output_type": "execute_result"
    }
   ],
   "source": [
    "import mxnet as mx\n",
    "from mxnet import nd\n",
    "x=nd.array([1,2,3])\n",
    "print(x)\n",
    "x.context"
   ]
  },
  {
   "cell_type": "code",
   "execution_count": 7,
   "metadata": {},
   "outputs": [
    {
     "data": {
      "text/plain": [
       "(\n",
       " [ 1.  2.  3.]\n",
       " <NDArray 3 @gpu(0)>, \n",
       " [[ 0.  0.]\n",
       "  [ 0.  0.]\n",
       "  [ 0.  0.]]\n",
       " <NDArray 3x2 @gpu(0)>, \n",
       " [[ 0.32977498  0.43025011  0.70026755]\n",
       "  [ 0.77781075  0.29912937  0.39169419]]\n",
       " <NDArray 2x3 @gpu(0)>)"
      ]
     },
     "execution_count": 7,
     "metadata": {},
     "output_type": "execute_result"
    }
   ],
   "source": [
    "a=nd.array([1,2,3],ctx=mx.gpu())\n",
    "b=nd.zeros((3,2),ctx=mx.gpu())\n",
    "c=nd.random.uniform(shape=(2,3),ctx=mx.gpu())\n",
    "(a,b,c)"
   ]
  },
  {
   "cell_type": "code",
   "execution_count": 19,
   "metadata": {},
   "outputs": [],
   "source": [
    "from mxnet import gluon\n",
    "net=gluon.nn.Sequential()\n",
    "net.add(gluon.nn.Dense(1))\n",
    "net.add(gluon.nn.Dense(1))\n",
    "net.add(gluon.nn.Dense(1))\n",
    "net.initialize(ctx=mx.gpu())\n"
   ]
  },
  {
   "cell_type": "code",
   "execution_count": 20,
   "metadata": {},
   "outputs": [
    {
     "data": {
      "text/plain": [
       "\n",
       "[[  1.53697636e-06]\n",
       " [  2.53448206e-07]\n",
       " [  4.58015620e-07]]\n",
       "<NDArray 3x1 @gpu(0)>"
      ]
     },
     "execution_count": 20,
     "metadata": {},
     "output_type": "execute_result"
    }
   ],
   "source": [
    "data=nd.random.uniform(shape=[3,2],ctx=mx.gpu())\n",
    "net(data)"
   ]
  },
  {
   "cell_type": "code",
   "execution_count": 21,
   "metadata": {},
   "outputs": [
    {
     "data": {
      "text/plain": [
       "\n",
       "[[ 0.02332029  0.04696382]]\n",
       "<NDArray 1x2 @gpu(0)>"
      ]
     },
     "execution_count": 21,
     "metadata": {},
     "output_type": "execute_result"
    }
   ],
   "source": [
    "net[0].weight.data()"
   ]
  },
  {
   "cell_type": "code",
   "execution_count": 22,
   "metadata": {},
   "outputs": [
    {
     "data": {
      "text/plain": [
       "\n",
       "[[-0.00169877]]\n",
       "<NDArray 1x1 @gpu(0)>"
      ]
     },
     "execution_count": 22,
     "metadata": {},
     "output_type": "execute_result"
    }
   ],
   "source": [
    "net[1].weight.data()"
   ]
  },
  {
   "cell_type": "code",
   "execution_count": 23,
   "metadata": {},
   "outputs": [
    {
     "data": {
      "text/plain": [
       "\n",
       "[[-0.01599531]]\n",
       "<NDArray 1x1 @gpu(0)>"
      ]
     },
     "execution_count": 23,
     "metadata": {},
     "output_type": "execute_result"
    }
   ],
   "source": [
    "net[2].weight.data()"
   ]
  },
  {
   "cell_type": "code",
   "execution_count": null,
   "metadata": {
    "collapsed": true
   },
   "outputs": [],
   "source": []
  }
 ],
 "metadata": {
  "kernelspec": {
   "display_name": "Python 3",
   "language": "python",
   "name": "python3"
  },
  "language_info": {
   "codemirror_mode": {
    "name": "ipython",
    "version": 3
   },
   "file_extension": ".py",
   "mimetype": "text/x-python",
   "name": "python",
   "nbconvert_exporter": "python",
   "pygments_lexer": "ipython3",
   "version": "3.6.1"
  }
 },
 "nbformat": 4,
 "nbformat_minor": 2
}
