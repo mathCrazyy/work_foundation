{
 "cells": [
  {
   "cell_type": "code",
   "execution_count": 19,
   "metadata": {
    "collapsed": false
   },
   "outputs": [
    {
     "name": "stdout",
     "output_type": "stream",
     "text": [
      "<class 'numpy.ndarray'>\n",
      "xx:  (753, 1004, 3)\n",
      "xx[0]:  753\n",
      "[[[1 2 3 4]\n",
      "  [3 4 5 4]\n",
      "  [1 3 3 4]]\n",
      "\n",
      " [[1 2 3 4]\n",
      "  [3 4 5 3]\n",
      "  [1 3 3 5]]]\n"
     ]
    },
    {
     "data": {
      "text/plain": [
       "(2, 3, 4)"
      ]
     },
     "execution_count": 19,
     "metadata": {},
     "output_type": "execute_result"
    }
   ],
   "source": [
    "import numpy as np\n",
    "import cv2\n",
    "xx=cv2.imread(\"1.png\")\n",
    "print(type(xx))\n",
    "print(\"xx: \",xx.shape)\n",
    "x=np.array([[1,2],[3,4],[5,6]])\n",
    "# from the outer to inner, one data include two tensor ,and every tensor include 3 tensor, and four...\n",
    "# so when it is image, we can know it is stored by rows,every sencond tensor have 1004 tensors,and have 3 in every of them.\n",
    "# standfor the channels\n",
    "ch=np.array([[[1,2,3,4],[3,4,5,4],[1,3,3,4]],[[1,2,3,4],[3,4,5,3],[1,3,3,5]]])\n",
    "print(\"xx[0]: \" ,xx.shape[0])\n",
    "print(ch)\n",
    "x.shape\n",
    "ch.shape"
   ]
  },
  {
   "cell_type": "code",
   "execution_count": 9,
   "metadata": {
    "collapsed": false
   },
   "outputs": [
    {
     "name": "stdout",
     "output_type": "stream",
     "text": [
      "3\n"
     ]
    }
   ],
   "source": [
    "y=x.reshape(2,3)\n",
    "print(x.shape[0])"
   ]
  },
  {
   "cell_type": "code",
   "execution_count": 8,
   "metadata": {
    "collapsed": false
   },
   "outputs": [
    {
     "data": {
      "text/plain": [
       "(2, 3)"
      ]
     },
     "execution_count": 8,
     "metadata": {},
     "output_type": "execute_result"
    }
   ],
   "source": [
    "y.shape"
   ]
  },
  {
   "cell_type": "code",
   "execution_count": null,
   "metadata": {
    "collapsed": true
   },
   "outputs": [],
   "source": []
  }
 ],
 "metadata": {
  "kernelspec": {
   "display_name": "Python [conda root]",
   "language": "python",
   "name": "conda-root-py"
  },
  "language_info": {
   "codemirror_mode": {
    "name": "ipython",
    "version": 3
   },
   "file_extension": ".py",
   "mimetype": "text/x-python",
   "name": "python",
   "nbconvert_exporter": "python",
   "pygments_lexer": "ipython3",
   "version": "3.5.2"
  }
 },
 "nbformat": 4,
 "nbformat_minor": 1
}
